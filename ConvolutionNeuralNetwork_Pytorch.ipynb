{
 "cells": [
  {
   "cell_type": "code",
   "execution_count": null,
   "id": "611f102c",
   "metadata": {},
   "outputs": [],
   "source": [
    "import torch\n",
    "import torch.nn as nn\n",
    "import torch.optim as optim\n",
    "\n",
    "import pandas as pd\n",
    "from sklearn.utils import shuffle\n",
    "import matplotlib.pyplot as plt\n",
    "import numpy as np\n",
    "import cv2 as cv"
   ]
  },
  {
   "cell_type": "code",
   "execution_count": null,
   "id": "bc016f99",
   "metadata": {},
   "outputs": [],
   "source": [
    "# Загрузка и начальная обработка данных\n",
    "def input_data():\n",
    "        \n",
    "        #Подготовка данных и выделение признаков\n",
    "        data = np.zeros((0,250,250))\n",
    "        outcome_0 = np.zeros((81,1))\n",
    "        outcome_1 = np.ones((154,1))\n",
    "        \n",
    "        for j in range(2):\n",
    "            \n",
    "            i = 1\n",
    "            if (j == 0): name_part = 'no'; y = 1; n = 82          \n",
    "            elif (j == 1): name_part = 'yes'; n = 155\n",
    "                \n",
    "            for i in range(1,n):\n",
    "                \n",
    "                # Загрузка изображения\n",
    "                s = 'images/brain_tumor_dataset/' + str(name_part) + '/1 (' + str(i) + ').jpg'\n",
    "                img = cv.imread(s,0)\n",
    "\n",
    "                # Приведение к одному разрешению\n",
    "                x_new = 250\n",
    "                y_new = 250\n",
    "                dsize = (x_new, y_new)\n",
    "                output_img = cv.resize(img, dsize, interpolation = cv.INTER_AREA)\n",
    "                new_img_array = np.array([output_img])  # приведение к 3d массиву\n",
    "\n",
    "                # Отображение мрт-изображения\n",
    "                plt.subplots(figsize = (5,5))\n",
    "                plt.imshow(output_img, cmap = 'gray')\n",
    "                plt.title('Resizing Image' + str(i)), plt.xticks([]), plt.yticks([])\n",
    "                plt.show()\n",
    "\n",
    "                # Преобразование матрицы в строку\n",
    "                array_data = np.concatenate((data, new_img_array), axis=0)\n",
    "                data = array_data\n",
    "                print(s)\n",
    "        \n",
    "        \n",
    "        outcome_0 = np.zeros((81,1))\n",
    "        outcome_1 = np.ones((154,1))\n",
    "        array_outcome = np.concatenate((outcome_0, outcome_1), axis=0)\n",
    "        return array_data, array_outcome\n",
    "\n",
    "dataset_x, dataset_y = input_data()"
   ]
  },
  {
   "cell_type": "code",
   "execution_count": null,
   "id": "892f77a5",
   "metadata": {},
   "outputs": [],
   "source": [
    "dataset_x.shape"
   ]
  },
  {
   "cell_type": "code",
   "execution_count": null,
   "id": "0016e984",
   "metadata": {},
   "outputs": [],
   "source": [
    "X, y = shuffle(dataset_x, dataset_y) # Перемешивает в одном порядке массивы (ПРОВЕРИТЬ!!!!!!) ---> проверено!"
   ]
  },
  {
   "cell_type": "code",
   "execution_count": null,
   "id": "4d9f4b3b",
   "metadata": {},
   "outputs": [],
   "source": [
    "X_ = (X - X.mean()) / X.max() # Нормализация данных"
   ]
  },
  {
   "cell_type": "code",
   "execution_count": null,
   "id": "fd712bdb",
   "metadata": {},
   "outputs": [],
   "source": [
    "img_0 = X_\n",
    "img_0 = torch.from_numpy(img_0)\n",
    "img_0 = torch.reshape(img_0, (235,1,250,250))\n",
    "img_0 = img_0.float()\n",
    "img_0.shape"
   ]
  },
  {
   "cell_type": "code",
   "execution_count": null,
   "id": "e7178e4b",
   "metadata": {},
   "outputs": [],
   "source": [
    "#conv = nn.Conv2d(in_channels = 1, out_channels = 1, kernel_size = 3)(img_0)\n",
    "#activ = nn.ReLU(inplace=True)(conv)\n",
    "#pool = nn.MaxPool2d(4)(activ) \n",
    "#pred = pool\n",
    "#pred = pred.view(1,-1)\n",
    "#pred"
   ]
  },
  {
   "cell_type": "code",
   "execution_count": null,
   "id": "66660e22",
   "metadata": {},
   "outputs": [],
   "source": [
    "y_data = y\n",
    "y_data = torch.from_numpy(y_data).float()\n",
    "y_data = y_data.view(-1,1)\n",
    "y_data"
   ]
  },
  {
   "cell_type": "code",
   "execution_count": null,
   "id": "5f1151a0",
   "metadata": {},
   "outputs": [],
   "source": [
    "class Flattener(nn.Module):\n",
    "    def forward(self, x):\n",
    "        batch_size, *_ = x.shape\n",
    "        return x.view(batch_size, -1)"
   ]
  },
  {
   "cell_type": "code",
   "execution_count": null,
   "id": "5129e73a",
   "metadata": {},
   "outputs": [],
   "source": [
    "class Norma(nn.Module):\n",
    "    def forward(self, norm):\n",
    "        norm = (norm - norm.mean()) / norm.max()\n",
    "        return norm"
   ]
  },
  {
   "cell_type": "code",
   "execution_count": null,
   "id": "c296ff3c",
   "metadata": {},
   "outputs": [],
   "source": [
    "CNN_model = nn.Sequential(\n",
    "            nn.Conv2d(in_channels = 1, out_channels = 1, kernel_size = 3),\n",
    "            Norma(),\n",
    "            nn.ReLU(inplace=True),\n",
    "            nn.MaxPool2d(4),\n",
    "            nn.Conv2d(in_channels = 1, out_channels = 1, kernel_size = 3),\n",
    "            nn.ReLU(inplace=True),\n",
    "            nn.MaxPool2d(4),\n",
    "            Flattener(),  \n",
    "            nn.Linear(225, 1),\n",
    "          )\n",
    "\n",
    "criterion = nn.BCEWithLogitsLoss()  # для бинарной классификации\n",
    "optimizer = torch.optim.Adam(CNN_model.parameters(), lr=0.01, weight_decay = 0.001)"
   ]
  },
  {
   "cell_type": "code",
   "execution_count": null,
   "id": "95105dbf",
   "metadata": {},
   "outputs": [],
   "source": [
    "epochs = 20\n",
    "history = []"
   ]
  },
  {
   "cell_type": "code",
   "execution_count": null,
   "id": "b1a9db30",
   "metadata": {},
   "outputs": [],
   "source": [
    "for i in range(epochs):\n",
    "    for j in range(0,235,47):\n",
    "    \n",
    "        # 2. compute scores with .forward or .__call__\n",
    "        logits = CNN_model(img_0[j:j+47,:1,:250,:250])\n",
    "\n",
    "        # 3. compute loss \n",
    "        loss = criterion(logits, y_data[j:j+47,:])\n",
    "        history.append(loss.item())\n",
    "\n",
    "        # 4. calc gradients\n",
    "        optimizer.zero_grad()\n",
    "        loss.backward()\n",
    "\n",
    "        # 5. step of gradient descent\n",
    "        optimizer.step()\n",
    "\n",
    "    print(\"Epoches_Step: \", i + 1, \"\\t\", \"Loss_Value:\", loss.item())"
   ]
  },
  {
   "cell_type": "code",
   "execution_count": null,
   "id": "d22afce1",
   "metadata": {},
   "outputs": [],
   "source": [
    "plt.figure(figsize=(6, 4))\n",
    "plt.plot(history)\n",
    "plt.title('Loss by epoches')\n",
    "plt.ylabel('Loss')\n",
    "plt.xlabel('Epoches')\n",
    "plt.grid()\n",
    "plt.show()"
   ]
  },
  {
   "cell_type": "code",
   "execution_count": null,
   "id": "a1e20170",
   "metadata": {},
   "outputs": [],
   "source": [
    "# Доля на тренировочных\n",
    "accuracy = 0.0\n",
    "for i in range(img_0.shape[0]):\n",
    "    logits = CNN_model(img_0[i:i+1,:1,:250,:250])\n",
    "\n",
    "    y_train_predict = logits\n",
    "    y_train_label = y_data[i:i+1,:].long()\n",
    "\n",
    "    if (y_train_predict < 0.5):\n",
    "        y_train_predict = 0\n",
    "    elif (y_train_predict >= 0.5):\n",
    "        y_train_predict = 1\n",
    "    if (y_train_predict == y_train_label):   \n",
    "        accuracy += 1\n",
    "    print(\"Ответ сети: \", y_train_predict, \"\\t\", \"Цель: \", y_train_label.item())\n",
    "        \n",
    "total_accuracy = accuracy / img_0.shape[0]"
   ]
  },
  {
   "cell_type": "code",
   "execution_count": null,
   "id": "d327c9ef",
   "metadata": {},
   "outputs": [],
   "source": [
    "print(\"Доля верно классифицированных данных: \", total_accuracy)"
   ]
  },
  {
   "cell_type": "code",
   "execution_count": null,
   "id": "0799f8ab",
   "metadata": {},
   "outputs": [],
   "source": []
  }
 ],
 "metadata": {
  "kernelspec": {
   "display_name": "Python 3 (ipykernel)",
   "language": "python",
   "name": "python3"
  },
  "language_info": {
   "codemirror_mode": {
    "name": "ipython",
    "version": 3
   },
   "file_extension": ".py",
   "mimetype": "text/x-python",
   "name": "python",
   "nbconvert_exporter": "python",
   "pygments_lexer": "ipython3",
   "version": "3.8.11"
  }
 },
 "nbformat": 4,
 "nbformat_minor": 5
}

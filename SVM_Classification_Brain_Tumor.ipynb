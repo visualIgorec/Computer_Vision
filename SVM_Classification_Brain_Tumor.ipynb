{
 "cells": [
  {
   "cell_type": "code",
   "execution_count": null,
   "id": "d17be059",
   "metadata": {},
   "outputs": [],
   "source": [
    "import cv2 as cv\n",
    "import numpy as np\n",
    "import matplotlib.pyplot as plt"
   ]
  },
  {
   "cell_type": "code",
   "execution_count": null,
   "id": "cda217f0",
   "metadata": {},
   "outputs": [],
   "source": [
    "# Загрузка и преобразование данных без патологий\n",
    "i = 1\n",
    "w = np.zeros((0,50400))\n",
    "while i < 82:\n",
    "    \n",
    "    # Загрузка изображение\n",
    "    s = 'images/brain_tumor_dataset/yes/yes (' + str(i) + ').jpg'\n",
    "    img = cv.imread(s,0)\n",
    "    \n",
    "    # Приведение к одному разрешению\n",
    "    x_new = 200\n",
    "    y_new = 252\n",
    "    dsize = (x_new, y_new)\n",
    "    output_img = cv.resize(img, dsize, interpolation = cv.INTER_AREA)\n",
    "    new_img_array = np.array(output_img)\n",
    "    \n",
    "    # Отображение мрт-изображения\n",
    "    plt.subplots(figsize = (5,5))\n",
    "    plt.imshow(output_img, cmap = 'gray')\n",
    "    plt.title('Resizing Image' + str(i)), plt.xticks([]), plt.yticks([])\n",
    "    plt.show()\n",
    "    \n",
    "    # Преобразование матрицы в строку\n",
    "    flatten_img_array = np.ravel(new_img_array)\n",
    "    flatten_img_array = np.array([flatten_img_array])\n",
    "    arr = np.concatenate((w, flatten_img_array), axis=0)\n",
    "    \n",
    "    w = arr\n",
    "    i = i + 1\n",
    "    print(s)"
   ]
  },
  {
   "cell_type": "code",
   "execution_count": null,
   "id": "e6a9aaa6",
   "metadata": {},
   "outputs": [],
   "source": [
    "np.shape(arr)"
   ]
  },
  {
   "cell_type": "code",
   "execution_count": null,
   "id": "30edf451",
   "metadata": {},
   "outputs": [],
   "source": [
    "outcome = (-1)*np.ones((81,1))\n",
    "\n",
    "# Запись в таблицу Pandas\n",
    "\n",
    "import pandas as pd\n",
    "df = pd.DataFrame(arr)\n",
    "df['Outcome'] = outcome # добавление столбца\n",
    "df"
   ]
  },
  {
   "cell_type": "code",
   "execution_count": null,
   "id": "242cf608",
   "metadata": {},
   "outputs": [],
   "source": [
    "# Загрузка и преобразование данных с патологиями\n",
    "i = 1\n",
    "w = np.zeros((0,50400))\n",
    "while i < 155:\n",
    "    \n",
    "    # Загрузка изображение\n",
    "    s = 'images/brain_tumor_dataset/yes/yes (' + str(i) + ').jpg'\n",
    "    img = cv.imread(s,0)\n",
    "    \n",
    "    # Приведение к одному разрешению\n",
    "    x_new = 200\n",
    "    y_new = 252\n",
    "    dsize = (x_new, y_new)\n",
    "    output_img = cv.resize(img, dsize, interpolation = cv.INTER_AREA)\n",
    "    new_img_array = np.array(output_img)\n",
    "    \n",
    "    # Отображение мрт-изображения\n",
    "    plt.subplots(figsize = (5,5))\n",
    "    plt.imshow(output_img, cmap = 'gray')\n",
    "    plt.title('Resizing Image' + str(i)), plt.xticks([]), plt.yticks([])\n",
    "    plt.show()\n",
    "    \n",
    "    # Преобразование матрицы в строку\n",
    "    flatten_img_array = np.ravel(new_img_array)\n",
    "    flatten_img_array = np.array([flatten_img_array])\n",
    "    arr1 = np.concatenate((w, flatten_img_array), axis=0)\n",
    "    \n",
    "    w = arr1\n",
    "    i = i + 1\n",
    "    print(s)"
   ]
  },
  {
   "cell_type": "code",
   "execution_count": null,
   "id": "c09835ae",
   "metadata": {},
   "outputs": [],
   "source": [
    "np.shape(arr1)"
   ]
  },
  {
   "cell_type": "code",
   "execution_count": null,
   "id": "78f3896d",
   "metadata": {},
   "outputs": [],
   "source": [
    "outcome = np.ones((154,1))\n",
    "df1 = pd.DataFrame(arr1)\n",
    "df1['Outcome'] = outcome\n",
    "df1"
   ]
  },
  {
   "cell_type": "code",
   "execution_count": null,
   "id": "b63cf903",
   "metadata": {},
   "outputs": [],
   "source": [
    "dataset = pd.concat([df,df1])\n",
    "dataset #Датасет изображений мрт-мозга"
   ]
  },
  {
   "cell_type": "code",
   "execution_count": null,
   "id": "e7a2a478",
   "metadata": {},
   "outputs": [],
   "source": [
    "from sklearn.utils import shuffle\n",
    "dataset = shuffle(dataset)\n",
    "dataset"
   ]
  },
  {
   "cell_type": "code",
   "execution_count": null,
   "id": "7a1e2cf9",
   "metadata": {},
   "outputs": [],
   "source": [
    "train_dataset = dataset.head(int(len(dataset)*0.7))\n",
    "test_dataset = dataset.tail(int(len(dataset)*0.3))"
   ]
  },
  {
   "cell_type": "code",
   "execution_count": null,
   "id": "ea2c1d1b",
   "metadata": {},
   "outputs": [],
   "source": [
    "train_dataset"
   ]
  },
  {
   "cell_type": "code",
   "execution_count": null,
   "id": "0654dd98",
   "metadata": {},
   "outputs": [],
   "source": [
    "test_dataset"
   ]
  },
  {
   "cell_type": "code",
   "execution_count": null,
   "id": "7393e36e",
   "metadata": {},
   "outputs": [],
   "source": [
    "train_label = train_dataset['Outcome']\n",
    "train = train_dataset.drop(labels='Outcome', axis=1) # Удаление столбца \"Outcome\" по asix=1\n",
    "train"
   ]
  },
  {
   "cell_type": "code",
   "execution_count": null,
   "id": "416ae833",
   "metadata": {},
   "outputs": [],
   "source": [
    "test_label = test_dataset['Outcome']\n",
    "test = test_dataset.drop(labels='Outcome', axis=1)\n",
    "test"
   ]
  },
  {
   "cell_type": "code",
   "execution_count": null,
   "id": "c66668d2",
   "metadata": {},
   "outputs": [],
   "source": [
    "# Нормализация\n",
    "from sklearn import preprocessing\n",
    "\n",
    "train_numpy = train.to_numpy() # Конвертация в numpy массив\n",
    "scaler_train = preprocessing.StandardScaler().fit(train_numpy)\n",
    "train_numpy = scaler_train.transform(train_numpy)\n",
    "norm_train = pd.DataFrame(data = train_numpy) # Конвертация numpy в pandas\n",
    "\n",
    "test_numpy = test.to_numpy() # Конвертация в numpy массив\n",
    "scaler_test = preprocessing.StandardScaler().fit(test_numpy)\n",
    "test_numpy = scaler_test.transform(test_numpy)\n",
    "norm_test = pd.DataFrame(data = test_numpy) # Конвертация numpy в pandas"
   ]
  },
  {
   "cell_type": "code",
   "execution_count": null,
   "id": "f2253765",
   "metadata": {},
   "outputs": [],
   "source": [
    "norm_train"
   ]
  },
  {
   "cell_type": "code",
   "execution_count": null,
   "id": "e57d25fc",
   "metadata": {},
   "outputs": [],
   "source": [
    "norm_test"
   ]
  },
  {
   "cell_type": "code",
   "execution_count": null,
   "id": "aa95c206",
   "metadata": {},
   "outputs": [],
   "source": [
    "# Обучение SVM\n",
    "from sklearn import svm\n",
    "\n",
    "SVM_model = svm.SVC(kernel='poly', C=0.001, gamma=0.001, degree=2)\n",
    "#SVM_model = svm.SVC(decision_function_shape='ovo')\n",
    "\n",
    "SVM_model.fit(norm_train, train_label)"
   ]
  },
  {
   "cell_type": "code",
   "execution_count": null,
   "id": "00012278",
   "metadata": {},
   "outputs": [],
   "source": [
    "# Доля верно классифицированных данных на обучающей выборке\n",
    "from sklearn.metrics import classification_report\n",
    "\n",
    "predictions_train = SVM_model.predict(norm_train)    \n",
    "print(classification_report(train_label, predictions_train))"
   ]
  },
  {
   "cell_type": "code",
   "execution_count": null,
   "id": "2b221598",
   "metadata": {},
   "outputs": [],
   "source": [
    "from sklearn.metrics import f1_score\n",
    "f1_score(train_label, predictions_train)"
   ]
  },
  {
   "cell_type": "code",
   "execution_count": null,
   "id": "0a9ef06c",
   "metadata": {},
   "outputs": [],
   "source": [
    "# Доля верно классифицированных данных на тестовой выборке\n",
    "predictions_test = SVM_model.predict(norm_test)    \n",
    "print(classification_report(test_label, predictions_test))"
   ]
  },
  {
   "cell_type": "code",
   "execution_count": null,
   "id": "06313fcb",
   "metadata": {},
   "outputs": [],
   "source": [
    "predictions_test = SVM_model.predict(norm_test)\n",
    "f1_score(test_label, predictions_test)"
   ]
  },
  {
   "cell_type": "code",
   "execution_count": null,
   "id": "ed30475c",
   "metadata": {},
   "outputs": [],
   "source": [
    "# prediction for i - item\n",
    "i = 2\n",
    "test.iloc[i]\n",
    "SVM_model.predict([test.iloc[i]])"
   ]
  },
  {
   "cell_type": "code",
   "execution_count": null,
   "id": "8c0482e3",
   "metadata": {},
   "outputs": [],
   "source": [
    "scaler_train.mean_"
   ]
  },
  {
   "cell_type": "code",
   "execution_count": null,
   "id": "39ef2029",
   "metadata": {},
   "outputs": [],
   "source": [
    "scaler_train.scale_"
   ]
  },
  {
   "cell_type": "code",
   "execution_count": null,
   "id": "51004a28",
   "metadata": {},
   "outputs": [],
   "source": [
    "# Верификация на новых данных\n",
    "\n",
    "def normalization(flatten_img_array, mean_value, std_value):\n",
    "    for i in range(len(flatten_img_array)):\n",
    "        flatten_img_array[i] = (flatten_img_array[i] - mean_value[i]) / std_value[i]\n",
    "    return flatten_img_array\n",
    "\n",
    "j = 1\n",
    "while j < 16:\n",
    "    \n",
    "    # Загрузка изображение\n",
    "    s = str(j) + '.jpg'\n",
    "    img = cv.imread(s,0)\n",
    "    \n",
    "    # Приведение к одному разрешению\n",
    "    x_new = 200\n",
    "    y_new = 252\n",
    "    dsize = (x_new, y_new)\n",
    "    output_img = cv.resize(img, dsize, interpolation = cv.INTER_AREA)\n",
    "    new_img_array = np.array(output_img)\n",
    "    \n",
    "    # Отображение мрт-изображения\n",
    "    plt.subplots(figsize = (5,5))\n",
    "    plt.imshow(output_img, cmap = 'gray')\n",
    "    plt.title('Resizing Image' + str(j)), plt.xticks([]), plt.yticks([])\n",
    "    plt.show()\n",
    "    \n",
    "    # Преобразование матрицы в строку\n",
    "    flatten_img_array = np.ravel(new_img_array)\n",
    "    ft = scaler_train.transform([flatten_img_array])\n",
    "    #mean_value = scaler_train.mean_\n",
    "    #std_value = scaler_train.scale_\n",
    "    #norm_flatten_img_array = normalization(flatten_img_array, mean_value, std_value)\n",
    "    #norm_flatten_img_array = np.array([norm_flatten_img_array])\n",
    "    prediction = SVM_model.predict(ft)\n",
    "    print('Prediction for image - ' + str(j) + ':')\n",
    "    if (prediction == -1):\n",
    "        print('Нет патологий')\n",
    "    else:\n",
    "        print('Есть патология')\n",
    "    \n",
    "    j = j + 1"
   ]
  },
  {
   "cell_type": "code",
   "execution_count": null,
   "id": "22aec22e",
   "metadata": {},
   "outputs": [],
   "source": []
  }
 ],
 "metadata": {
  "kernelspec": {
   "display_name": "Python 3 (ipykernel)",
   "language": "python",
   "name": "python3"
  },
  "language_info": {
   "codemirror_mode": {
    "name": "ipython",
    "version": 3
   },
   "file_extension": ".py",
   "mimetype": "text/x-python",
   "name": "python",
   "nbconvert_exporter": "python",
   "pygments_lexer": "ipython3",
   "version": "3.8.11"
  }
 },
 "nbformat": 4,
 "nbformat_minor": 5
}
